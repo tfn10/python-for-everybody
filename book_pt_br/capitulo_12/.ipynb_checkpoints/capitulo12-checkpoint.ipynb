{
 "cells": [
  {
   "cell_type": "markdown",
   "id": "b976be29",
   "metadata": {},
   "source": [
    "# Capítulo 12 - Programas em rede"
   ]
  },
  {
   "cell_type": "markdown",
   "id": "59da20c8",
   "metadata": {},
   "source": [
    "### 12.1 - HyperText Transfer Protocol - HTTP"
   ]
  },
  {
   "cell_type": "markdown",
   "id": "f9f0e799",
   "metadata": {},
   "source": [
    "### 12.2 - O navegador da internet mais simples do mundo"
   ]
  },
  {
   "cell_type": "code",
   "execution_count": 4,
   "id": "9f54184a",
   "metadata": {},
   "outputs": [
    {
     "name": "stdout",
     "output_type": "stream",
     "text": [
      "HTTP/1.1 200 OK\r\n",
      "Date: Fri, 25 Feb 2022 13:12:43 GMT\r\n",
      "Server: Apache/2.4.18 (Ubuntu)\r\n",
      "Last-Modified: Sat, 13 May 2017 11:22:22 GMT\r\n",
      "ETag: \"a7-54f6609245537\"\r\n",
      "Accept-Ranges: bytes\r\n",
      "Content-Length: 167\r\n",
      "Cache-Control: max-age=0, no-cache, no-store, must-revalidate\r\n",
      "Pragma: no-cache\r\n",
      "Expires: Wed, 11 Jan 1984 05:00:00 GMT\r\n",
      "Connection: close\r\n",
      "Content-Type: text/plain\r\n",
      "\r\n",
      "But soft what light through yonder window breaks\n",
      "It is the east and Juliet is the sun\n",
      "Arise fair sun and kill the envious moon\n",
      "Who is already sick and pale with grief\n"
     ]
    }
   ],
   "source": [
    "import socket\n",
    "\n",
    "mysock = socket.socket(socket.AF_INET, socket.SOCK_STREAM)\n",
    "mysock.connect(('data.pr4e.org', 80))\n",
    "cmd = 'GET http://data.pr4e.org/romeo.txt HTTP/1.0\\r\\n\\r\\n'.encode()\n",
    "mysock.send(cmd)\n",
    "\n",
    "while True:\n",
    "    data = mysock.recv(512)\n",
    "    if len(data) < 1:\n",
    "        break\n",
    "    print(data.decode(),end='')\n",
    "\n",
    "mysock.close()\n",
    "\n",
    "# Code: http://www.py4e.com/code3/socket1.py\n"
   ]
  },
  {
   "cell_type": "markdown",
   "id": "81edd6dc",
   "metadata": {},
   "source": [
    "os métodos **encode()** e **decode()** convertem strings em objetos em bytes e vice versa."
   ]
  },
  {
   "cell_type": "code",
   "execution_count": 6,
   "id": "49fe05ca",
   "metadata": {},
   "outputs": [
    {
     "name": "stdout",
     "output_type": "stream",
     "text": [
      "b'Hello world'\n"
     ]
    }
   ],
   "source": [
    "print(b'Hello world')"
   ]
  },
  {
   "cell_type": "code",
   "execution_count": 7,
   "id": "032b59b6",
   "metadata": {},
   "outputs": [
    {
     "name": "stdout",
     "output_type": "stream",
     "text": [
      "b'Hello world'\n"
     ]
    }
   ],
   "source": [
    "print('Hello world'.encode())"
   ]
  },
  {
   "cell_type": "markdown",
   "id": "91d55411",
   "metadata": {},
   "source": [
    "a notação b' ' especofoca a variável que precisa ser armazenada como um objeto em bytes, encode() e b' ' são equivalentes"
   ]
  },
  {
   "cell_type": "markdown",
   "id": "a12ab2af",
   "metadata": {},
   "source": [
    "### 12.3 - Recuperando uma imagen sovre http"
   ]
  },
  {
   "cell_type": "code",
   "execution_count": 8,
   "id": "8af72275",
   "metadata": {},
   "outputs": [
    {
     "name": "stdout",
     "output_type": "stream",
     "text": [
      "1452 1452\n",
      "5120 6572\n",
      "5120 11692\n",
      "2828 14520\n",
      "4356 18876\n",
      "5120 23996\n",
      "2140 26136\n",
      "1452 27588\n",
      "5120 32708\n",
      "5120 37828\n",
      "2828 40656\n",
      "2904 43560\n",
      "1452 45012\n",
      "1452 46464\n",
      "5120 51584\n",
      "5120 56704\n",
      "1376 58080\n",
      "1452 59532\n",
      "5120 64652\n",
      "5120 69772\n",
      "5120 74892\n",
      "5120 80012\n",
      "5120 85132\n",
      "5120 90252\n",
      "5120 95372\n",
      "460 95832\n",
      "4356 100188\n",
      "1452 101640\n",
      "1452 103092\n",
      "5120 108212\n",
      "688 108900\n",
      "1452 110352\n",
      "5120 115472\n",
      "5120 120592\n",
      "5120 125712\n",
      "4968 130680\n",
      "1452 132132\n",
      "5120 137252\n",
      "5120 142372\n",
      "5120 147492\n",
      "5120 152612\n",
      "5120 157732\n",
      "5120 162852\n",
      "5120 167972\n",
      "4816 172788\n",
      "5120 177908\n",
      "688 178596\n",
      "1452 180048\n",
      "4356 184404\n",
      "5120 189524\n",
      "688 190212\n",
      "5120 195332\n",
      "3592 198924\n",
      "1452 200376\n",
      "1452 201828\n",
      "5120 206948\n",
      "5120 212068\n",
      "5120 217188\n",
      "5120 222308\n",
      "5120 227428\n",
      "3180 230608\n",
      "Header length 394\n",
      "HTTP/1.1 200 OK\n",
      "Date: Fri, 25 Feb 2022 13:24:28 GMT\n",
      "Server: Apache/2.4.18 (Ubuntu)\n",
      "Last-Modified: Mon, 15 May 2017 12:27:40 GMT\n",
      "ETag: \"38342-54f8f2e5b6277\"\n",
      "Accept-Ranges: bytes\n",
      "Content-Length: 230210\n",
      "Vary: Accept-Encoding\n",
      "Cache-Control: max-age=0, no-cache, no-store, must-revalidate\n",
      "Pragma: no-cache\n",
      "Expires: Wed, 11 Jan 1984 05:00:00 GMT\n",
      "Connection: close\n",
      "Content-Type: image/jpeg\n"
     ]
    }
   ],
   "source": [
    "import socket\n",
    "import time\n",
    "\n",
    "HOST = 'data.pr4e.org'\n",
    "PORT = 80\n",
    "mysock = socket.socket(socket.AF_INET, socket.SOCK_STREAM)\n",
    "mysock.connect((HOST, PORT))\n",
    "mysock.sendall(b'GET http://data.pr4e.org/cover3.jpg HTTP/1.0\\r\\n\\r\\n')\n",
    "count = 0\n",
    "picture = b\"\"\n",
    "\n",
    "while True:\n",
    "    data = mysock.recv(5120)\n",
    "    if len(data) < 1:\n",
    "        break\n",
    "    #time.sleep(0.25)\n",
    "    count = count + len(data)\n",
    "    print(len(data), count)\n",
    "    picture = picture + data\n",
    "\n",
    "mysock.close()\n",
    "\n",
    "# Look for the end of the header (2 CRLF)\n",
    "pos = picture.find(b\"\\r\\n\\r\\n\")\n",
    "print('Header length', pos)\n",
    "print(picture[:pos].decode())\n",
    "\n",
    "# Skip past the header and save the picture data\n",
    "picture = picture[pos+4:]\n",
    "fhand = open(\"stuff.jpg\", \"wb\")\n",
    "fhand.write(picture)\n",
    "fhand.close()\n"
   ]
  },
  {
   "cell_type": "code",
   "execution_count": null,
   "id": "350bbb8f",
   "metadata": {},
   "outputs": [],
   "source": []
  }
 ],
 "metadata": {
  "kernelspec": {
   "display_name": "Python 3 (ipykernel)",
   "language": "python",
   "name": "python3"
  },
  "language_info": {
   "codemirror_mode": {
    "name": "ipython",
    "version": 3
   },
   "file_extension": ".py",
   "mimetype": "text/x-python",
   "name": "python",
   "nbconvert_exporter": "python",
   "pygments_lexer": "ipython3",
   "version": "3.9.1"
  }
 },
 "nbformat": 4,
 "nbformat_minor": 5
}
