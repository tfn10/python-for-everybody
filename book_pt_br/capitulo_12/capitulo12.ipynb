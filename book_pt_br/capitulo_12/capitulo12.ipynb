{
 "cells": [
  {
   "cell_type": "markdown",
   "id": "b976be29",
   "metadata": {},
   "source": [
    "# Capítulo 12 - Programas em rede"
   ]
  },
  {
   "cell_type": "markdown",
   "id": "59da20c8",
   "metadata": {},
   "source": [
    "### 12.1 - HyperText Transfer Protocol - HTTP"
   ]
  },
  {
   "cell_type": "markdown",
   "id": "f9f0e799",
   "metadata": {},
   "source": [
    "### 12.2 - O navegador da internet mais simples do mundo"
   ]
  },
  {
   "cell_type": "code",
   "execution_count": 4,
   "id": "9f54184a",
   "metadata": {},
   "outputs": [
    {
     "name": "stdout",
     "output_type": "stream",
     "text": [
      "HTTP/1.1 200 OK\r\n",
      "Date: Fri, 25 Feb 2022 13:12:43 GMT\r\n",
      "Server: Apache/2.4.18 (Ubuntu)\r\n",
      "Last-Modified: Sat, 13 May 2017 11:22:22 GMT\r\n",
      "ETag: \"a7-54f6609245537\"\r\n",
      "Accept-Ranges: bytes\r\n",
      "Content-Length: 167\r\n",
      "Cache-Control: max-age=0, no-cache, no-store, must-revalidate\r\n",
      "Pragma: no-cache\r\n",
      "Expires: Wed, 11 Jan 1984 05:00:00 GMT\r\n",
      "Connection: close\r\n",
      "Content-Type: text/plain\r\n",
      "\r\n",
      "But soft what light through yonder window breaks\n",
      "It is the east and Juliet is the sun\n",
      "Arise fair sun and kill the envious moon\n",
      "Who is already sick and pale with grief\n"
     ]
    }
   ],
   "source": [
    "import socket\n",
    "\n",
    "mysock = socket.socket(socket.AF_INET, socket.SOCK_STREAM)\n",
    "mysock.connect(('data.pr4e.org', 80))\n",
    "cmd = 'GET http://data.pr4e.org/romeo.txt HTTP/1.0\\r\\n\\r\\n'.encode()\n",
    "mysock.send(cmd)\n",
    "\n",
    "while True:\n",
    "    data = mysock.recv(512)\n",
    "    if len(data) < 1:\n",
    "        break\n",
    "    print(data.decode(),end='')\n",
    "\n",
    "mysock.close()\n",
    "\n",
    "# Code: http://www.py4e.com/code3/socket1.py\n"
   ]
  },
  {
   "cell_type": "markdown",
   "id": "81edd6dc",
   "metadata": {},
   "source": [
    "os métodos **encode()** e **decode()** convertem strings em objetos em bytes e vice versa."
   ]
  },
  {
   "cell_type": "code",
   "execution_count": 6,
   "id": "49fe05ca",
   "metadata": {},
   "outputs": [
    {
     "name": "stdout",
     "output_type": "stream",
     "text": [
      "b'Hello world'\n"
     ]
    }
   ],
   "source": [
    "print(b'Hello world')"
   ]
  },
  {
   "cell_type": "code",
   "execution_count": 7,
   "id": "032b59b6",
   "metadata": {},
   "outputs": [
    {
     "name": "stdout",
     "output_type": "stream",
     "text": [
      "b'Hello world'\n"
     ]
    }
   ],
   "source": [
    "print('Hello world'.encode())"
   ]
  },
  {
   "cell_type": "markdown",
   "id": "91d55411",
   "metadata": {},
   "source": [
    "a notação b' ' especofoca a variável que precisa ser armazenada como um objeto em bytes, encode() e b' ' são equivalentes"
   ]
  },
  {
   "cell_type": "markdown",
   "id": "a12ab2af",
   "metadata": {},
   "source": [
    "### 12.3 - Recuperando uma imagen sobre http"
   ]
  },
  {
   "cell_type": "code",
   "execution_count": 1,
   "id": "8af72275",
   "metadata": {},
   "outputs": [
    {
     "name": "stdout",
     "output_type": "stream",
     "text": [
      "5120 5120\n",
      "3592 8712\n",
      "1452 10164\n",
      "5120 15284\n",
      "5120 20404\n",
      "5120 25524\n",
      "4968 30492\n",
      "5120 35612\n",
      "688 36300\n",
      "5120 41420\n",
      "688 42108\n",
      "4356 46464\n",
      "5120 51584\n",
      "3592 55176\n",
      "1452 56628\n",
      "2904 59532\n",
      "5120 64652\n",
      "2140 66792\n",
      "5120 71912\n",
      "5120 77032\n",
      "4280 81312\n",
      "4356 85668\n",
      "2904 88572\n",
      "5120 93692\n",
      "3592 97284\n",
      "1452 98736\n",
      "5120 103856\n",
      "5044 108900\n",
      "5120 114020\n",
      "3592 117612\n",
      "2904 120516\n",
      "2904 123420\n",
      "5120 128540\n",
      "3592 132132\n",
      "1452 133584\n",
      "2904 136488\n",
      "5120 141608\n",
      "5044 146652\n",
      "1452 148104\n",
      "1452 149556\n",
      "5120 154676\n",
      "5120 159796\n",
      "1376 161172\n",
      "2904 164076\n",
      "4356 168432\n",
      "5120 173552\n",
      "2140 175692\n",
      "2904 178596\n",
      "1452 180048\n",
      "5120 185168\n",
      "5044 190212\n",
      "5120 195332\n",
      "688 196020\n",
      "5120 201140\n",
      "5044 206184\n",
      "5120 211304\n",
      "5120 216424\n",
      "1376 217800\n",
      "4356 222156\n",
      "1452 223608\n",
      "4356 227964\n",
      "2644 230608\n",
      "Header length 394\n",
      "HTTP/1.1 200 OK\n",
      "Date: Fri, 25 Feb 2022 21:07:10 GMT\n",
      "Server: Apache/2.4.18 (Ubuntu)\n",
      "Last-Modified: Mon, 15 May 2017 12:27:40 GMT\n",
      "ETag: \"38342-54f8f2e5b6277\"\n",
      "Accept-Ranges: bytes\n",
      "Content-Length: 230210\n",
      "Vary: Accept-Encoding\n",
      "Cache-Control: max-age=0, no-cache, no-store, must-revalidate\n",
      "Pragma: no-cache\n",
      "Expires: Wed, 11 Jan 1984 05:00:00 GMT\n",
      "Connection: close\n",
      "Content-Type: image/jpeg\n"
     ]
    }
   ],
   "source": [
    "import socket\n",
    "import time\n",
    "\n",
    "HOST = 'data.pr4e.org'\n",
    "PORT = 80\n",
    "mysock = socket.socket(socket.AF_INET, socket.SOCK_STREAM)\n",
    "mysock.connect((HOST, PORT))\n",
    "mysock.sendall(b'GET http://data.pr4e.org/cover3.jpg HTTP/1.0\\r\\n\\r\\n')\n",
    "count = 0\n",
    "picture = b\"\"\n",
    "\n",
    "while True:\n",
    "    data = mysock.recv(5120)\n",
    "    if len(data) < 1:\n",
    "        break\n",
    "    #time.sleep(0.25)\n",
    "    count = count + len(data)\n",
    "    print(len(data), count)\n",
    "    picture = picture + data\n",
    "\n",
    "mysock.close()\n",
    "\n",
    "# Look for the end of the header (2 CRLF)\n",
    "pos = picture.find(b\"\\r\\n\\r\\n\")\n",
    "print('Header length', pos)\n",
    "print(picture[:pos].decode())\n",
    "\n",
    "# Skip past the header and save the picture data\n",
    "picture = picture[pos+4:]\n",
    "fhand = open(\"stuff.jpg\", \"wb\")\n",
    "fhand.write(picture)\n",
    "fhand.close()\n"
   ]
  },
  {
   "cell_type": "code",
   "execution_count": 5,
   "id": "4cafdc3f",
   "metadata": {},
   "outputs": [
    {
     "data": {
      "text/plain": [
       "'108'"
      ]
     },
     "execution_count": 5,
     "metadata": {},
     "output_type": "execute_result"
    }
   ],
   "source": [
    "ascii(108)"
   ]
  },
  {
   "cell_type": "code",
   "execution_count": 6,
   "id": "62f1fdcc",
   "metadata": {},
   "outputs": [
    {
     "data": {
      "text/plain": [
       "'l'"
      ]
     },
     "execution_count": 6,
     "metadata": {},
     "output_type": "execute_result"
    }
   ],
   "source": [
    "chr(108)"
   ]
  },
  {
   "cell_type": "code",
   "execution_count": 7,
   "id": "f841f394",
   "metadata": {},
   "outputs": [
    {
     "data": {
      "text/plain": [
       "'i'"
      ]
     },
     "execution_count": 7,
     "metadata": {},
     "output_type": "execute_result"
    }
   ],
   "source": [
    "chr(105)"
   ]
  },
  {
   "cell_type": "code",
   "execution_count": 8,
   "id": "7740591b",
   "metadata": {},
   "outputs": [
    {
     "data": {
      "text/plain": [
       "'s'"
      ]
     },
     "execution_count": 8,
     "metadata": {},
     "output_type": "execute_result"
    }
   ],
   "source": [
    "chr(115)"
   ]
  },
  {
   "cell_type": "code",
   "execution_count": 9,
   "id": "d1569618",
   "metadata": {},
   "outputs": [
    {
     "data": {
      "text/plain": [
       "'t'"
      ]
     },
     "execution_count": 9,
     "metadata": {},
     "output_type": "execute_result"
    }
   ],
   "source": [
    "chr(116)"
   ]
  },
  {
   "cell_type": "code",
   "execution_count": null,
   "id": "6938027e",
   "metadata": {},
   "outputs": [],
   "source": []
  }
 ],
 "metadata": {
  "kernelspec": {
   "display_name": "Python 3 (ipykernel)",
   "language": "python",
   "name": "python3"
  },
  "language_info": {
   "codemirror_mode": {
    "name": "ipython",
    "version": 3
   },
   "file_extension": ".py",
   "mimetype": "text/x-python",
   "name": "python",
   "nbconvert_exporter": "python",
   "pygments_lexer": "ipython3",
   "version": "3.9.1"
  }
 },
 "nbformat": 4,
 "nbformat_minor": 5
}
